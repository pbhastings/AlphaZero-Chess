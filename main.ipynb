{
 "cells": [
  {
   "cell_type": "code",
   "execution_count": 1,
   "metadata": {},
   "outputs": [],
   "source": [
    "from cmath import inf\n",
    "from math import sqrt\n",
    "import math\n",
    "import random\n",
    "\n",
    "import os\n",
    "os.environ['TF_CPP_MIN_LOG_LEVEL'] = '3' #make tensorflow stop talking\n",
    "\n",
    "import evaluator\n",
    "import constants\n",
    "import chess\n",
    "import chess.pgn\n",
    "import btm\n",
    "import zeromodel\n",
    "import zero_mcts\n",
    "from player import Player\n",
    "import data\n",
    "\n",
    "import numpy as np\n",
    "import tensorflow as tf\n",
    "from keras.models import Model"
   ]
  },
  {
   "cell_type": "code",
   "execution_count": 2,
   "metadata": {},
   "outputs": [],
   "source": [
    "model = zeromodel.build_zero_model(constants.NUM_RES_LAYERS)\n",
    "storage = data.Data()"
   ]
  },
  {
   "cell_type": "code",
   "execution_count": 4,
   "metadata": {},
   "outputs": [
    {
     "name": "stdout",
     "output_type": "stream",
     "text": [
      "playing game 1\n",
      "f2f3\n"
     ]
    }
   ],
   "source": [
    "game_num = 1\n",
    "while True:\n",
    "\n",
    "    white = Player(chess.Board(), model)\n",
    "    black = Player(chess.Board(), model)\n",
    "    board = chess.Board()\n",
    "\n",
    "    cur_player = white\n",
    "    other_player = black\n",
    "\n",
    "    turn = chess.WHITE\n",
    "    move_count = 0\n",
    "    temp = 1\n",
    "    print('playing game', game_num)\n",
    "    while not board.is_game_over(claim_draw=True):\n",
    "        if (turn == chess.WHITE):\n",
    "            cur_player = white\n",
    "            other_player = black\n",
    "        else:\n",
    "            cur_player = black\n",
    "            other_player = white\n",
    "        \n",
    "        if (move_count >= constants.ND_TURNS and temp != 0):\n",
    "            temp = 0\n",
    "        \n",
    "        move, pi = cur_player.make_move(constants.MCTS_DEPTH, temp)\n",
    "        other_player.change_root(move)\n",
    "\n",
    "        move_count += 1\n",
    "        turn = not turn\n",
    "\n",
    "        board_array = btm.board_to_array(board)\n",
    "        storage.add_move(turn, board_array, pi)\n",
    "\n",
    "        board.push(move)\n",
    "        print(move)\n",
    "\n",
    "    outcome = board.outcome(claim_draw=True)\n",
    "    storage.save_game(outcome)\n",
    "    game_num += 1\n",
    "\n",
    "    if len(storage.history) >= constants.MOVE_STORAGE:\n",
    "        print('training')\n",
    "        for i in range(constants.TRAINING_LOOPS):\n",
    "            batch = random.sample(storage.history, constants.TRAIN_SIZE)\n",
    "            features = np.array([move['board'] for move in batch])\n",
    "            pi = np.array([move['pi'] for move in batch])\n",
    "            z = np.array([move['z'] for move in batch])\n",
    "            labels = {'policy_head': pi, 'value_head': z}\n",
    "\n",
    "            model.fit(features, labels, epochs=1, verbose=1)\n",
    "        model.save('zero-model.keras')"
   ]
  },
  {
   "cell_type": "code",
   "execution_count": 4,
   "metadata": {},
   "outputs": [],
   "source": [
    "model.save('zero-model.keras')"
   ]
  },
  {
   "cell_type": "code",
   "execution_count": null,
   "metadata": {},
   "outputs": [],
   "source": []
  }
 ],
 "metadata": {
  "kernelspec": {
   "display_name": "Python 3.9.6 64-bit",
   "language": "python",
   "name": "python3"
  },
  "language_info": {
   "codemirror_mode": {
    "name": "ipython",
    "version": 3
   },
   "file_extension": ".py",
   "mimetype": "text/x-python",
   "name": "python",
   "nbconvert_exporter": "python",
   "pygments_lexer": "ipython3",
   "version": "3.12.2"
  },
  "orig_nbformat": 4,
  "vscode": {
   "interpreter": {
    "hash": "25034407fed5d681614dac11a1c0537e8cb49e3a8883c071303eea01322943d9"
   }
  }
 },
 "nbformat": 4,
 "nbformat_minor": 2
}
